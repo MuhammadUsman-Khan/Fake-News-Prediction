{
  "nbformat": 4,
  "nbformat_minor": 0,
  "metadata": {
    "colab": {
      "provenance": [],
      "authorship_tag": "ABX9TyPN6rpOIp4krgSt5J2uYyCJ",
      "include_colab_link": true
    },
    "kernelspec": {
      "name": "python3",
      "display_name": "Python 3"
    },
    "language_info": {
      "name": "python"
    }
  },
  "cells": [
    {
      "cell_type": "markdown",
      "metadata": {
        "id": "view-in-github",
        "colab_type": "text"
      },
      "source": [
        "<a href=\"https://colab.research.google.com/github/MuhammadUsman-Khan/Fake-News-Prediction/blob/main/Project_4_Fake_News_Prediction.ipynb\" target=\"_parent\"><img src=\"https://colab.research.google.com/assets/colab-badge.svg\" alt=\"Open In Colab\"/></a>"
      ]
    },
    {
      "cell_type": "markdown",
      "source": [
        "Importing the Dependencies"
      ],
      "metadata": {
        "id": "zL2NSpKF91_Z"
      }
    },
    {
      "cell_type": "code",
      "execution_count": null,
      "metadata": {
        "id": "R9ZqWpr_9Ja7"
      },
      "outputs": [],
      "source": [
        "import numpy as np\n",
        "import pandas as pd\n",
        "import re\n",
        "from nltk.corpus import stopwords\n",
        "from nltk.stem.porter import PorterStemmer\n",
        "from sklearn.feature_extraction.text import TfidfVectorizer\n",
        "from sklearn.model_selection import train_test_split\n",
        "from sklearn.linear_model import LogisticRegression\n",
        "from sklearn.metrics import accuracy_score"
      ]
    },
    {
      "cell_type": "code",
      "source": [
        "import nltk\n",
        "nltk.download('stopwords')"
      ],
      "metadata": {
        "colab": {
          "base_uri": "https://localhost:8080/"
        },
        "id": "ouGqeLbIm1nI",
        "outputId": "e0e9c1f2-cc51-4d6e-8b2b-231311b16bd3"
      },
      "execution_count": null,
      "outputs": [
        {
          "output_type": "stream",
          "name": "stderr",
          "text": [
            "[nltk_data] Downloading package stopwords to /root/nltk_data...\n",
            "[nltk_data]   Package stopwords is already up-to-date!\n"
          ]
        },
        {
          "output_type": "execute_result",
          "data": {
            "text/plain": [
              "True"
            ]
          },
          "metadata": {},
          "execution_count": 12
        }
      ]
    },
    {
      "cell_type": "code",
      "source": [
        "# printing the stopwords in English\n",
        "print(stopwords.words('english'))"
      ],
      "metadata": {
        "colab": {
          "base_uri": "https://localhost:8080/"
        },
        "id": "nj7eo_lfnLDH",
        "outputId": "6715769a-1aa2-473f-fd2f-2ca46bac0270"
      },
      "execution_count": null,
      "outputs": [
        {
          "output_type": "stream",
          "name": "stdout",
          "text": [
            "['a', 'about', 'above', 'after', 'again', 'against', 'ain', 'all', 'am', 'an', 'and', 'any', 'are', 'aren', \"aren't\", 'as', 'at', 'be', 'because', 'been', 'before', 'being', 'below', 'between', 'both', 'but', 'by', 'can', 'couldn', \"couldn't\", 'd', 'did', 'didn', \"didn't\", 'do', 'does', 'doesn', \"doesn't\", 'doing', 'don', \"don't\", 'down', 'during', 'each', 'few', 'for', 'from', 'further', 'had', 'hadn', \"hadn't\", 'has', 'hasn', \"hasn't\", 'have', 'haven', \"haven't\", 'having', 'he', \"he'd\", \"he'll\", 'her', 'here', 'hers', 'herself', \"he's\", 'him', 'himself', 'his', 'how', 'i', \"i'd\", 'if', \"i'll\", \"i'm\", 'in', 'into', 'is', 'isn', \"isn't\", 'it', \"it'd\", \"it'll\", \"it's\", 'its', 'itself', \"i've\", 'just', 'll', 'm', 'ma', 'me', 'mightn', \"mightn't\", 'more', 'most', 'mustn', \"mustn't\", 'my', 'myself', 'needn', \"needn't\", 'no', 'nor', 'not', 'now', 'o', 'of', 'off', 'on', 'once', 'only', 'or', 'other', 'our', 'ours', 'ourselves', 'out', 'over', 'own', 're', 's', 'same', 'shan', \"shan't\", 'she', \"she'd\", \"she'll\", \"she's\", 'should', 'shouldn', \"shouldn't\", \"should've\", 'so', 'some', 'such', 't', 'than', 'that', \"that'll\", 'the', 'their', 'theirs', 'them', 'themselves', 'then', 'there', 'these', 'they', \"they'd\", \"they'll\", \"they're\", \"they've\", 'this', 'those', 'through', 'to', 'too', 'under', 'until', 'up', 've', 'very', 'was', 'wasn', \"wasn't\", 'we', \"we'd\", \"we'll\", \"we're\", 'were', 'weren', \"weren't\", \"we've\", 'what', 'when', 'where', 'which', 'while', 'who', 'whom', 'why', 'will', 'with', 'won', \"won't\", 'wouldn', \"wouldn't\", 'y', 'you', \"you'd\", \"you'll\", 'your', \"you're\", 'yours', 'yourself', 'yourselves', \"you've\"]\n"
          ]
        }
      ]
    },
    {
      "cell_type": "markdown",
      "source": [
        "Data Prepocessing"
      ],
      "metadata": {
        "id": "YLro9yExpUmG"
      }
    },
    {
      "cell_type": "code",
      "source": [
        "# loading the dataset into the Pandas dataframe\n",
        "news_dataset = pd.read_csv('/content/train.csv', on_bad_lines='warn', engine='python')"
      ],
      "metadata": {
        "colab": {
          "base_uri": "https://localhost:8080/"
        },
        "id": "jc4mYUnOpX9P",
        "outputId": "9f6bae9b-a399-428a-8a2e-7c0bd48317c3"
      },
      "execution_count": null,
      "outputs": [
        {
          "output_type": "stream",
          "name": "stderr",
          "text": [
            "<ipython-input-14-d8a9b354ea9e>:2: ParserWarning: Skipping line 13535: field larger than field limit (131072)\n",
            "\n",
            "  news_dataset = pd.read_csv('/content/train.csv', on_bad_lines='warn', engine='python')\n",
            "<ipython-input-14-d8a9b354ea9e>:2: ParserWarning: Skipping line 19783: field larger than field limit (131072)\n",
            "\n",
            "  news_dataset = pd.read_csv('/content/train.csv', on_bad_lines='warn', engine='python')\n",
            "<ipython-input-14-d8a9b354ea9e>:2: ParserWarning: Skipping line 13541: Expected 5 fields in line 13541, saw 6\n",
            "\n",
            "  news_dataset = pd.read_csv('/content/train.csv', on_bad_lines='warn', engine='python')\n",
            "<ipython-input-14-d8a9b354ea9e>:2: ParserWarning: Skipping line 19782: Expected 5 fields in line 19782, saw 7\n",
            "\n",
            "  news_dataset = pd.read_csv('/content/train.csv', on_bad_lines='warn', engine='python')\n",
            "<ipython-input-14-d8a9b354ea9e>:2: ParserWarning: Skipping line 19783: Expected 5 fields in line 19783, saw 10\n",
            "\n",
            "  news_dataset = pd.read_csv('/content/train.csv', on_bad_lines='warn', engine='python')\n",
            "<ipython-input-14-d8a9b354ea9e>:2: ParserWarning: Skipping line 19785: Expected 5 fields in line 19785, saw 14\n",
            "\n",
            "  news_dataset = pd.read_csv('/content/train.csv', on_bad_lines='warn', engine='python')\n",
            "<ipython-input-14-d8a9b354ea9e>:2: ParserWarning: Skipping line 19787: Expected 5 fields in line 19787, saw 8\n",
            "\n",
            "  news_dataset = pd.read_csv('/content/train.csv', on_bad_lines='warn', engine='python')\n",
            "<ipython-input-14-d8a9b354ea9e>:2: ParserWarning: Skipping line 19789: Expected 5 fields in line 19789, saw 7\n",
            "\n",
            "  news_dataset = pd.read_csv('/content/train.csv', on_bad_lines='warn', engine='python')\n",
            "<ipython-input-14-d8a9b354ea9e>:2: ParserWarning: Skipping line 19790: Expected 5 fields in line 19790, saw 15\n",
            "\n",
            "  news_dataset = pd.read_csv('/content/train.csv', on_bad_lines='warn', engine='python')\n",
            "<ipython-input-14-d8a9b354ea9e>:2: ParserWarning: Skipping line 19791: Expected 5 fields in line 19791, saw 9\n",
            "\n",
            "  news_dataset = pd.read_csv('/content/train.csv', on_bad_lines='warn', engine='python')\n",
            "<ipython-input-14-d8a9b354ea9e>:2: ParserWarning: Skipping line 19792: Expected 5 fields in line 19792, saw 9\n",
            "\n",
            "  news_dataset = pd.read_csv('/content/train.csv', on_bad_lines='warn', engine='python')\n",
            "<ipython-input-14-d8a9b354ea9e>:2: ParserWarning: Skipping line 19793: Expected 5 fields in line 19793, saw 12\n",
            "\n",
            "  news_dataset = pd.read_csv('/content/train.csv', on_bad_lines='warn', engine='python')\n",
            "<ipython-input-14-d8a9b354ea9e>:2: ParserWarning: Skipping line 19794: Expected 5 fields in line 19794, saw 15\n",
            "\n",
            "  news_dataset = pd.read_csv('/content/train.csv', on_bad_lines='warn', engine='python')\n",
            "<ipython-input-14-d8a9b354ea9e>:2: ParserWarning: Skipping line 19795: Expected 5 fields in line 19795, saw 8\n",
            "\n",
            "  news_dataset = pd.read_csv('/content/train.csv', on_bad_lines='warn', engine='python')\n",
            "<ipython-input-14-d8a9b354ea9e>:2: ParserWarning: Skipping line 19796: Expected 5 fields in line 19796, saw 20\n",
            "\n",
            "  news_dataset = pd.read_csv('/content/train.csv', on_bad_lines='warn', engine='python')\n",
            "<ipython-input-14-d8a9b354ea9e>:2: ParserWarning: Skipping line 19797: Expected 5 fields in line 19797, saw 8\n",
            "\n",
            "  news_dataset = pd.read_csv('/content/train.csv', on_bad_lines='warn', engine='python')\n",
            "<ipython-input-14-d8a9b354ea9e>:2: ParserWarning: Skipping line 19798: Expected 5 fields in line 19798, saw 8\n",
            "\n",
            "  news_dataset = pd.read_csv('/content/train.csv', on_bad_lines='warn', engine='python')\n",
            "<ipython-input-14-d8a9b354ea9e>:2: ParserWarning: Skipping line 19801: Expected 5 fields in line 19801, saw 8\n",
            "\n",
            "  news_dataset = pd.read_csv('/content/train.csv', on_bad_lines='warn', engine='python')\n",
            "<ipython-input-14-d8a9b354ea9e>:2: ParserWarning: Skipping line 19802: Expected 5 fields in line 19802, saw 9\n",
            "\n",
            "  news_dataset = pd.read_csv('/content/train.csv', on_bad_lines='warn', engine='python')\n",
            "<ipython-input-14-d8a9b354ea9e>:2: ParserWarning: Skipping line 19803: Expected 5 fields in line 19803, saw 18\n",
            "\n",
            "  news_dataset = pd.read_csv('/content/train.csv', on_bad_lines='warn', engine='python')\n",
            "<ipython-input-14-d8a9b354ea9e>:2: ParserWarning: Skipping line 19804: Expected 5 fields in line 19804, saw 6\n",
            "\n",
            "  news_dataset = pd.read_csv('/content/train.csv', on_bad_lines='warn', engine='python')\n",
            "<ipython-input-14-d8a9b354ea9e>:2: ParserWarning: Skipping line 19805: Expected 5 fields in line 19805, saw 7\n",
            "\n",
            "  news_dataset = pd.read_csv('/content/train.csv', on_bad_lines='warn', engine='python')\n",
            "<ipython-input-14-d8a9b354ea9e>:2: ParserWarning: Skipping line 19806: Expected 5 fields in line 19806, saw 16\n",
            "\n",
            "  news_dataset = pd.read_csv('/content/train.csv', on_bad_lines='warn', engine='python')\n",
            "<ipython-input-14-d8a9b354ea9e>:2: ParserWarning: Skipping line 19807: Expected 5 fields in line 19807, saw 24\n",
            "\n",
            "  news_dataset = pd.read_csv('/content/train.csv', on_bad_lines='warn', engine='python')\n",
            "<ipython-input-14-d8a9b354ea9e>:2: ParserWarning: Skipping line 19808: Expected 5 fields in line 19808, saw 11\n",
            "\n",
            "  news_dataset = pd.read_csv('/content/train.csv', on_bad_lines='warn', engine='python')\n"
          ]
        }
      ]
    },
    {
      "cell_type": "code",
      "source": [
        "news_dataset.shape"
      ],
      "metadata": {
        "colab": {
          "base_uri": "https://localhost:8080/"
        },
        "id": "i62nc1r9A8cp",
        "outputId": "08850e1e-1889-4509-a392-354ac9d6eddc"
      },
      "execution_count": null,
      "outputs": [
        {
          "output_type": "execute_result",
          "data": {
            "text/plain": [
              "(20822, 5)"
            ]
          },
          "metadata": {},
          "execution_count": 15
        }
      ]
    },
    {
      "cell_type": "code",
      "source": [
        "# print the first 5 rows of the dataframe\n",
        "news_dataset.head()"
      ],
      "metadata": {
        "colab": {
          "base_uri": "https://localhost:8080/",
          "height": 276
        },
        "id": "RLbZh8-RCRJk",
        "outputId": "20ef760a-9837-4a55-e2a9-33c6144d6c2b"
      },
      "execution_count": null,
      "outputs": [
        {
          "output_type": "execute_result",
          "data": {
            "text/plain": [
              "  id                                              title              author  \\\n",
              "0  0  House Dem Aide: We Didn’t Even See Comey’s Let...       Darrell Lucus   \n",
              "1  1  FLYNN: Hillary Clinton, Big Woman on Campus - ...     Daniel J. Flynn   \n",
              "2  2                  Why the Truth Might Get You Fired  Consortiumnews.com   \n",
              "3  3  15 Civilians Killed In Single US Airstrike Hav...     Jessica Purkiss   \n",
              "4  4  Iranian woman jailed for fictional unpublished...      Howard Portnoy   \n",
              "\n",
              "                                                text label  \n",
              "0  House Dem Aide: We Didn’t Even See Comey’s Let...     1  \n",
              "1  Ever get the feeling your life circles the rou...     0  \n",
              "2  Why the Truth Might Get You Fired October 29, ...     1  \n",
              "3  Videos 15 Civilians Killed In Single US Airstr...     1  \n",
              "4  Print \\nAn Iranian woman has been sentenced to...     1  "
            ],
            "text/html": [
              "\n",
              "  <div id=\"df-59f1c9aa-f5d8-42e9-b517-ed3fdca10997\" class=\"colab-df-container\">\n",
              "    <div>\n",
              "<style scoped>\n",
              "    .dataframe tbody tr th:only-of-type {\n",
              "        vertical-align: middle;\n",
              "    }\n",
              "\n",
              "    .dataframe tbody tr th {\n",
              "        vertical-align: top;\n",
              "    }\n",
              "\n",
              "    .dataframe thead th {\n",
              "        text-align: right;\n",
              "    }\n",
              "</style>\n",
              "<table border=\"1\" class=\"dataframe\">\n",
              "  <thead>\n",
              "    <tr style=\"text-align: right;\">\n",
              "      <th></th>\n",
              "      <th>id</th>\n",
              "      <th>title</th>\n",
              "      <th>author</th>\n",
              "      <th>text</th>\n",
              "      <th>label</th>\n",
              "    </tr>\n",
              "  </thead>\n",
              "  <tbody>\n",
              "    <tr>\n",
              "      <th>0</th>\n",
              "      <td>0</td>\n",
              "      <td>House Dem Aide: We Didn’t Even See Comey’s Let...</td>\n",
              "      <td>Darrell Lucus</td>\n",
              "      <td>House Dem Aide: We Didn’t Even See Comey’s Let...</td>\n",
              "      <td>1</td>\n",
              "    </tr>\n",
              "    <tr>\n",
              "      <th>1</th>\n",
              "      <td>1</td>\n",
              "      <td>FLYNN: Hillary Clinton, Big Woman on Campus - ...</td>\n",
              "      <td>Daniel J. Flynn</td>\n",
              "      <td>Ever get the feeling your life circles the rou...</td>\n",
              "      <td>0</td>\n",
              "    </tr>\n",
              "    <tr>\n",
              "      <th>2</th>\n",
              "      <td>2</td>\n",
              "      <td>Why the Truth Might Get You Fired</td>\n",
              "      <td>Consortiumnews.com</td>\n",
              "      <td>Why the Truth Might Get You Fired October 29, ...</td>\n",
              "      <td>1</td>\n",
              "    </tr>\n",
              "    <tr>\n",
              "      <th>3</th>\n",
              "      <td>3</td>\n",
              "      <td>15 Civilians Killed In Single US Airstrike Hav...</td>\n",
              "      <td>Jessica Purkiss</td>\n",
              "      <td>Videos 15 Civilians Killed In Single US Airstr...</td>\n",
              "      <td>1</td>\n",
              "    </tr>\n",
              "    <tr>\n",
              "      <th>4</th>\n",
              "      <td>4</td>\n",
              "      <td>Iranian woman jailed for fictional unpublished...</td>\n",
              "      <td>Howard Portnoy</td>\n",
              "      <td>Print \\nAn Iranian woman has been sentenced to...</td>\n",
              "      <td>1</td>\n",
              "    </tr>\n",
              "  </tbody>\n",
              "</table>\n",
              "</div>\n",
              "    <div class=\"colab-df-buttons\">\n",
              "\n",
              "  <div class=\"colab-df-container\">\n",
              "    <button class=\"colab-df-convert\" onclick=\"convertToInteractive('df-59f1c9aa-f5d8-42e9-b517-ed3fdca10997')\"\n",
              "            title=\"Convert this dataframe to an interactive table.\"\n",
              "            style=\"display:none;\">\n",
              "\n",
              "  <svg xmlns=\"http://www.w3.org/2000/svg\" height=\"24px\" viewBox=\"0 -960 960 960\">\n",
              "    <path d=\"M120-120v-720h720v720H120Zm60-500h600v-160H180v160Zm220 220h160v-160H400v160Zm0 220h160v-160H400v160ZM180-400h160v-160H180v160Zm440 0h160v-160H620v160ZM180-180h160v-160H180v160Zm440 0h160v-160H620v160Z\"/>\n",
              "  </svg>\n",
              "    </button>\n",
              "\n",
              "  <style>\n",
              "    .colab-df-container {\n",
              "      display:flex;\n",
              "      gap: 12px;\n",
              "    }\n",
              "\n",
              "    .colab-df-convert {\n",
              "      background-color: #E8F0FE;\n",
              "      border: none;\n",
              "      border-radius: 50%;\n",
              "      cursor: pointer;\n",
              "      display: none;\n",
              "      fill: #1967D2;\n",
              "      height: 32px;\n",
              "      padding: 0 0 0 0;\n",
              "      width: 32px;\n",
              "    }\n",
              "\n",
              "    .colab-df-convert:hover {\n",
              "      background-color: #E2EBFA;\n",
              "      box-shadow: 0px 1px 2px rgba(60, 64, 67, 0.3), 0px 1px 3px 1px rgba(60, 64, 67, 0.15);\n",
              "      fill: #174EA6;\n",
              "    }\n",
              "\n",
              "    .colab-df-buttons div {\n",
              "      margin-bottom: 4px;\n",
              "    }\n",
              "\n",
              "    [theme=dark] .colab-df-convert {\n",
              "      background-color: #3B4455;\n",
              "      fill: #D2E3FC;\n",
              "    }\n",
              "\n",
              "    [theme=dark] .colab-df-convert:hover {\n",
              "      background-color: #434B5C;\n",
              "      box-shadow: 0px 1px 3px 1px rgba(0, 0, 0, 0.15);\n",
              "      filter: drop-shadow(0px 1px 2px rgba(0, 0, 0, 0.3));\n",
              "      fill: #FFFFFF;\n",
              "    }\n",
              "  </style>\n",
              "\n",
              "    <script>\n",
              "      const buttonEl =\n",
              "        document.querySelector('#df-59f1c9aa-f5d8-42e9-b517-ed3fdca10997 button.colab-df-convert');\n",
              "      buttonEl.style.display =\n",
              "        google.colab.kernel.accessAllowed ? 'block' : 'none';\n",
              "\n",
              "      async function convertToInteractive(key) {\n",
              "        const element = document.querySelector('#df-59f1c9aa-f5d8-42e9-b517-ed3fdca10997');\n",
              "        const dataTable =\n",
              "          await google.colab.kernel.invokeFunction('convertToInteractive',\n",
              "                                                    [key], {});\n",
              "        if (!dataTable) return;\n",
              "\n",
              "        const docLinkHtml = 'Like what you see? Visit the ' +\n",
              "          '<a target=\"_blank\" href=https://colab.research.google.com/notebooks/data_table.ipynb>data table notebook</a>'\n",
              "          + ' to learn more about interactive tables.';\n",
              "        element.innerHTML = '';\n",
              "        dataTable['output_type'] = 'display_data';\n",
              "        await google.colab.output.renderOutput(dataTable, element);\n",
              "        const docLink = document.createElement('div');\n",
              "        docLink.innerHTML = docLinkHtml;\n",
              "        element.appendChild(docLink);\n",
              "      }\n",
              "    </script>\n",
              "  </div>\n",
              "\n",
              "\n",
              "    <div id=\"df-42ac8892-1c07-4526-abd5-89402b3662fa\">\n",
              "      <button class=\"colab-df-quickchart\" onclick=\"quickchart('df-42ac8892-1c07-4526-abd5-89402b3662fa')\"\n",
              "                title=\"Suggest charts\"\n",
              "                style=\"display:none;\">\n",
              "\n",
              "<svg xmlns=\"http://www.w3.org/2000/svg\" height=\"24px\"viewBox=\"0 0 24 24\"\n",
              "     width=\"24px\">\n",
              "    <g>\n",
              "        <path d=\"M19 3H5c-1.1 0-2 .9-2 2v14c0 1.1.9 2 2 2h14c1.1 0 2-.9 2-2V5c0-1.1-.9-2-2-2zM9 17H7v-7h2v7zm4 0h-2V7h2v10zm4 0h-2v-4h2v4z\"/>\n",
              "    </g>\n",
              "</svg>\n",
              "      </button>\n",
              "\n",
              "<style>\n",
              "  .colab-df-quickchart {\n",
              "      --bg-color: #E8F0FE;\n",
              "      --fill-color: #1967D2;\n",
              "      --hover-bg-color: #E2EBFA;\n",
              "      --hover-fill-color: #174EA6;\n",
              "      --disabled-fill-color: #AAA;\n",
              "      --disabled-bg-color: #DDD;\n",
              "  }\n",
              "\n",
              "  [theme=dark] .colab-df-quickchart {\n",
              "      --bg-color: #3B4455;\n",
              "      --fill-color: #D2E3FC;\n",
              "      --hover-bg-color: #434B5C;\n",
              "      --hover-fill-color: #FFFFFF;\n",
              "      --disabled-bg-color: #3B4455;\n",
              "      --disabled-fill-color: #666;\n",
              "  }\n",
              "\n",
              "  .colab-df-quickchart {\n",
              "    background-color: var(--bg-color);\n",
              "    border: none;\n",
              "    border-radius: 50%;\n",
              "    cursor: pointer;\n",
              "    display: none;\n",
              "    fill: var(--fill-color);\n",
              "    height: 32px;\n",
              "    padding: 0;\n",
              "    width: 32px;\n",
              "  }\n",
              "\n",
              "  .colab-df-quickchart:hover {\n",
              "    background-color: var(--hover-bg-color);\n",
              "    box-shadow: 0 1px 2px rgba(60, 64, 67, 0.3), 0 1px 3px 1px rgba(60, 64, 67, 0.15);\n",
              "    fill: var(--button-hover-fill-color);\n",
              "  }\n",
              "\n",
              "  .colab-df-quickchart-complete:disabled,\n",
              "  .colab-df-quickchart-complete:disabled:hover {\n",
              "    background-color: var(--disabled-bg-color);\n",
              "    fill: var(--disabled-fill-color);\n",
              "    box-shadow: none;\n",
              "  }\n",
              "\n",
              "  .colab-df-spinner {\n",
              "    border: 2px solid var(--fill-color);\n",
              "    border-color: transparent;\n",
              "    border-bottom-color: var(--fill-color);\n",
              "    animation:\n",
              "      spin 1s steps(1) infinite;\n",
              "  }\n",
              "\n",
              "  @keyframes spin {\n",
              "    0% {\n",
              "      border-color: transparent;\n",
              "      border-bottom-color: var(--fill-color);\n",
              "      border-left-color: var(--fill-color);\n",
              "    }\n",
              "    20% {\n",
              "      border-color: transparent;\n",
              "      border-left-color: var(--fill-color);\n",
              "      border-top-color: var(--fill-color);\n",
              "    }\n",
              "    30% {\n",
              "      border-color: transparent;\n",
              "      border-left-color: var(--fill-color);\n",
              "      border-top-color: var(--fill-color);\n",
              "      border-right-color: var(--fill-color);\n",
              "    }\n",
              "    40% {\n",
              "      border-color: transparent;\n",
              "      border-right-color: var(--fill-color);\n",
              "      border-top-color: var(--fill-color);\n",
              "    }\n",
              "    60% {\n",
              "      border-color: transparent;\n",
              "      border-right-color: var(--fill-color);\n",
              "    }\n",
              "    80% {\n",
              "      border-color: transparent;\n",
              "      border-right-color: var(--fill-color);\n",
              "      border-bottom-color: var(--fill-color);\n",
              "    }\n",
              "    90% {\n",
              "      border-color: transparent;\n",
              "      border-bottom-color: var(--fill-color);\n",
              "    }\n",
              "  }\n",
              "</style>\n",
              "\n",
              "      <script>\n",
              "        async function quickchart(key) {\n",
              "          const quickchartButtonEl =\n",
              "            document.querySelector('#' + key + ' button');\n",
              "          quickchartButtonEl.disabled = true;  // To prevent multiple clicks.\n",
              "          quickchartButtonEl.classList.add('colab-df-spinner');\n",
              "          try {\n",
              "            const charts = await google.colab.kernel.invokeFunction(\n",
              "                'suggestCharts', [key], {});\n",
              "          } catch (error) {\n",
              "            console.error('Error during call to suggestCharts:', error);\n",
              "          }\n",
              "          quickchartButtonEl.classList.remove('colab-df-spinner');\n",
              "          quickchartButtonEl.classList.add('colab-df-quickchart-complete');\n",
              "        }\n",
              "        (() => {\n",
              "          let quickchartButtonEl =\n",
              "            document.querySelector('#df-42ac8892-1c07-4526-abd5-89402b3662fa button');\n",
              "          quickchartButtonEl.style.display =\n",
              "            google.colab.kernel.accessAllowed ? 'block' : 'none';\n",
              "        })();\n",
              "      </script>\n",
              "    </div>\n",
              "\n",
              "    </div>\n",
              "  </div>\n"
            ],
            "application/vnd.google.colaboratory.intrinsic+json": {
              "type": "dataframe",
              "variable_name": "news_dataset",
              "summary": "{\n  \"name\": \"news_dataset\",\n  \"rows\": 20822,\n  \"fields\": [\n    {\n      \"column\": \"id\",\n      \"properties\": {\n        \"dtype\": \"string\",\n        \"num_unique_values\": 20822,\n        \"samples\": [\n          \"2501\",\n          \"15557\",\n          \"15541\"\n        ],\n        \"semantic_type\": \"\",\n        \"description\": \"\"\n      }\n    },\n    {\n      \"column\": \"title\",\n      \"properties\": {\n        \"dtype\": \"string\",\n        \"num_unique_values\": 19817,\n        \"samples\": [\n          \"Donald Trump Embraces Wider Use of Stop-and-Frisk by Police - The New York Times\",\n          \"ICE Arrests 160 in Sweeping California Enforcement, Possibly More Across 6 States - Breitbart\",\n          \"Patients Most Dangerous In Winter When They\\u2019re Dying Off, Warn HSE\"\n        ],\n        \"semantic_type\": \"\",\n        \"description\": \"\"\n      }\n    },\n    {\n      \"column\": \"author\",\n      \"properties\": {\n        \"dtype\": \"category\",\n        \"num_unique_values\": 4205,\n        \"samples\": [\n          \"stevor\",\n          \"Seth Kugel\",\n          \"Sylvie Bigar\"\n        ],\n        \"semantic_type\": \"\",\n        \"description\": \"\"\n      }\n    },\n    {\n      \"column\": \"text\",\n      \"properties\": {\n        \"dtype\": \"string\",\n        \"num_unique_values\": 20388,\n        \"samples\": [\n          \"The great debate over what \\u201cnationalism\\u201d means will surely be filled by the closing passage of President Donald Trump\\u2019s inaugural speech:[A new national pride will stir ourselves, lift our sights and heal our divisions. It\\u2019s time to remember that old wisdom our soldiers will never forget, that whether we are black or brown or white, we all bleed the same red blood of patriots. We all enjoy the same glorious freedoms and we all salute the same great American flag. And whether a child is born in the urban sprawl of Detroit or the windswept plains of Nebraska, they look up at the same night sky, they fill their heart with the same dreams and they are infused with the breath of life by the same almighty creator. So to all Americans in every city near and far, small and large, from mountain to mountain, from ocean to ocean, hear these words: You will never be ignored again. Your voice, your hopes and your dreams will define our American destiny. And your courage and goodness and love will forever guide us along the way. Together we will make America strong again, we will make America wealthy again, we will make America proud again, we will make America safe again. And, yes, together we will make America great again. Trump\\u2019s inaugural address, reportedly written by chief strategist Stephen K. Bannon and senior advisor Stephen Miller, was criticized as aggressive, but it was largely an effort to explain what he meant by \\u201cMake America Great Again,\\u201d which is (thankfully!) a very aggressive idea. For an example of a passive campaign theme, try \\u201cHope and Change. \\u201d There is nothing more passive than lying around and hoping some Santa Claus politician comes along with a bag of other people\\u2019s money to fix your life.  Trump was also criticized for delivering an inaugural address that sounded too much like his campaign speeches. This was necessary, because the mainstream media didn\\u2019t relay enough of what he said on the stump. They were too busy freaking out over whatever \\u201coutrageous\\u201d thing he said at any given rally.  It was appropriate for Trump to succinctly explain his platform to the widest audience he\\u2019ll ever have, both within and beyond America\\u2019s borders, with no media filter. Until now, most of the media commentary on \\u201cMake America Great Again\\u201d consisted of whining about how unfair it was to the inexplicably   Barack Obama, mixed with the occasional lefty primal scream about how America was never great to begin with. Perhaps most importantly, Trump used his inaugural to beat down the asinine smear of \\u201cwhite nationalism. \\u201d His talk of national pride has been corrupted to mean unthinking national chauvinism by the Left. \\u201cAmerica first\\u201d is twisted to mean \\u201cscrew everybody but America\\u201d (or, in the hands of the more mendacious critics, \\u201cscrew the Jews. \\u201d) Then it gets twisted even further by welding the unspoken word \\u201cwhite\\u201d onto \\u201cnationalism,\\u201d transforming it into a racist call to arms. The number of actual white nationalists who talk about white nationalism is vastly smaller than the number of liberals who insist that\\u2019s what they hear when Trump talks about \\u201cAmerican pride. \\u201d Maybe it\\u2019s time for liberals to check in with their therapists and have a long talk about why they hear so many racist dog whistles. In his inaugural, Trump could not have been more clear about the inclusiveness of his vision for American pride. \\u201cWhether we are black or brown or white, we all bleed the same red blood of patriots\\u201d is about as clear as it gets.  Of course, the usual   media swamis will declare they\\u2019ve looked inside Trump\\u2019s mind, and he didn\\u2019t really mean that. He just threw those words in because Kellyanne told him he needed a little racism insurance. But everything about that speech, and everything Trump has said about resurgent American pride, and everything said by the people who want to reclaim nationalism from chauvinism, is inclusive. The point is to insist on both national priorities and national responsibilities, for everyone from   citizens at the immigration office to President Trump and his Cabinet.  The woman from Mexico who took her oath of citizenship yesterday is 100% American. The man from Mexico who slipped across the border in a coyote truck yesterday is not. President Trump has a long list of sacred duties to the woman, but not to the man. This is not a complicated idea, or a racist one, or really even a nationalist one. It\\u2019s Civics 101. It\\u2019s also the idea global socialism must strangle, in order to survive. Liberals who rail against \\u201cnationalism\\u201d are primarily interested in creating a world of zero accountability for their maximum leaders. With borders erased, the Ruling Class can hack the electorate to suit its political needs, and their business partners can slash the cost of labor. \\u201cInternationalist\\u201d leaders are accountable to no nation\\u2019s citizens. Trump\\u2019s inaugural address included a bold statement of the opposite principle. America\\u2019s president has neither control, nor responsibility, over the economies of other nations. He is responsible to Americans, from Nebraska to Detroit, as Trump put it. He set a very high bar for himself to clear by pointedly mentioning Detroit.  He also made a promise that no group will be preyed upon for the advantages of another. To be the president of all Americans means he is the sugar daddy of none. No more will the power of government be used to penalize groups the Left hates, and beat them into line with new social orthodoxies. No more will Washington dream up economic plans that benefit some, or even most, while designating certain \\u201cforgotten people\\u201d as lifetime losers who need to shut up and accept their fate.  Trump referred to \\u201cwealth\\u201d several times in his speech. \\u201cWealth\\u201d means more than just money. Wealth benefits all, no matter how loudly socialists may screech about too much of it accruing to the One Percent. Some people got very rich by designing, building, and selling the device you\\u2019re staring at right now. You are wealthier than your grandparents, because you have it. As for a proud America\\u2019s proper relationship with other nations, Trump said: We will seek friendship and goodwill with the nations of the world, but we do so with the understanding that it is the right of all nations to put their own interests first. We do not seek to impose our way of life on anyone, but rather to let it shine as an example. We will shine for everyone to follow. That\\u2019s not chauvinism, or imperialism. That\\u2019s the understanding America was founded upon. When Thomas Jefferson took his turn at the presidential bat, he called for \\u201cpeace, commerce, and honest friendship with all nations, entangling alliances with none. \\u201d No one interpreted that to mean \\u201cto Hell with the rest of the world. \\u201d Also, not to put too fine a point on it, but just about every other nation on Earth understands the concept of putting its own interests first, and believes it has a moral obligation to do so. The leaders of some other nations are very good at murmuring sweet globalist nothings into the ears of   elites, but what they actually do is ruthlessly pursue their own national interests. The charade is made much easier for them by the universal understanding that America is supposed to be the one country that never gets to look out for itself, that has no moral right to protect its own interests. Those are all much easier promises to make than keep, to be sure, but Trump did make them. It is wise to be skeptical, and hold his feet to the very large fire he built with that inaugural address.\",\n          \"By Brig Asif H. Raja on November 1, 2016 \\nAsif Haroon Raja \\nThe ISI had developed its long arm capability during the tenures of Gen Akhtar Abdur Rehman, Lt Gen Hamid Gul (VT editor) and Lt Gen Javed Nasir as DG ISI. It was owing to this capability of hitting the chosen target outside the frontiers of Pakistan that the ISI earned the reputation of a dreaded outfit and the best in Asia. The long arm began to shrivel when Benazir Bhutto was PM from 1988 to 1990 and Gen Waheed Kakar was COAS and Lt Gen Javed Ashraf Qazi had replaced Gen Javed Nasir. This change in posture was a result of pressure of the US and the West, pressing Pakistan to refrain from meddling in Indian Occupied Kashmir (IOK) and in India, or else it will be declared a terrorist state. Pressure was mounted at the behest of India which had become strategic partner of USA and Israel in 1991/1992 and darling of the West. \\nAfter the occupation of Afghanistan by 1, 50,000 Soviet forces in December 1979, Pakistan under Gen Ziaul Haq had decided to provide refuge to about 5 million Afghan refugees and to support the Afghan Mujahideen in their resistance. The US came forward with a package of $ 3.5 billion in June 1981 after making a measured assessment that Pakistan had the will and capability to fight the proxy war. The offer was accepted only when it was conveyed that the ISI will coordinate and conduct the entire war without the aid of CIA and that the US and others would restrict their support to provision of funds and weapons/equipment only. As a Frontline State, Pakistan suffered a great deal throughout the Afghan war at the hands of KGB-KHAD-RAW-AlZulfiqar nexus and Afghan armed forces, but achieved the miracle by defeating and pushing out Soviet forces in February 1989. After achieving its objective without employing a single soldier, the US abandoned Pakistan as well as the Mujahideen who had sacrificed 1.5 million people and had helped the US in becoming a sole super power. \\nOnce Pakistan fell from the grace of USA and it was put under sanctions on account of its covert nuclear program suspected to be geared towards making an Islamic bomb, it came under the shadow of black star. Pakistan\\u2019s nuclear program became an eyesore for India, Israel and USA. It faced the whole brunt of fallout effects of ten-year Afghan war that had been fully supported by the US led free world. USSR that had shrunk to Russian Federation was highly bitter, while India was perpetually hostile. Iran was not so friendly owing to its reservations over the developments in Afghanistan. Explosive situation in Afghanistan due to civil war and power tussle among the seven Mujahideen groups impacted the security of Pakistan. \\nStart of armed insurgency in IOK in late 1989 and India pumping in over 700,000 troops into the Valley had its effects on Pakistan\\u2019s security dynamics. In 1990/91, both sides had come close to war. Internally, the society had become militarized due to the Afghan war and sectarianism fomented by Iran and Saudi Arabia had created serious law and order situation in Punjab. PPP and PML-N acrimoniously tussled with each other for power because of which no govt could complete its mandatory 5 years tenure. \\nFragmentation of USSR and demise of communism on account of its military defeat in Afghanistan and increase of influence of Pakistan and India decreasing its influence in Afghanistan had vexed India. It feared that Pakistan may exploit the situation in IOK and liberate it with the help of over 60 Jihadi groups and take its revenge of the humiliation it had suffered in East Pakistan in 1971. It dreaded that Pakistan may replicate its model of supporting the Mukti Bahini. Sensing the gravity of the situation, India started propagating that Pakistan is behind the insurgency in IOK and that the ISI is funding, training and launching terrorists from Azad Jammu & Kashmir (AJK). It urged the UN and world powers to rein in Pakistan and restrain ISI from conducting cross LoC terrorism. \\nThe US, both Republicans and Democrats, had been constantly wooing India to join its camp since early 1950s, but India preferred the Soviet camp, although it professed to be non-aligned. It was elated when India feeling orphaned after the collapse of USSR fell like a ripe apple into the waiting arms of USA and both became bedfellows in 1991. Once its newfound love sought help from her paramour, the latter stood behind her and sternly cautioned Pakistan to lay its hands off IOK. Change in circumstances compelled Pakistan to restrict its support to the Kashmiris in distress to moral, political and diplomatic levels only. The Kashmir oriented Jihadi groups based in AJK and in Southern Punjab however continued to extend support to the Kashmiris seeking right of self-determination as provided for in the UN resolutions. Indian security forces equipped with draconian laws and license to kill without any fear of accountability or censure by the UN and world powers carried out inhuman torture, employed massive force, and used rape as a weapon to break the will of the freedom fighters. The UN and international community turned a deaf ear to the cries of Kashmiris. \\nDespite the fact that IOK had become the most militarized region of the world (one soldier for 17 civilians), and Kashmiris had suffered over 100,000 fatalities, 10,000 rapes, detention of thousands in secret dens and destruction of their property, the freedom fighters kept the torch of liberty aglow. The heroics of Kashmiris against heavy odds had a telling effect on the morale of Indian Army and paramilitary forces in IOK. Soldiers suffered from demoralization and homesickness; cases of suicides, desertions, killing of seniors and comrades by soldiers, and indiscipline jumped up at an alarming rate. Officers and men dreaded posting to Kashmir, while rate of compassionate cases wanting posting out from Kashmir shot up. A stage came when recruitment in Army dropped to rock bottom levels. The then Indian Army chief had to appear on the TV and run an ad campaign to appeal to the youth to join the Army on better pay scale and perks. Kashmir had become a perforated wound for India and economic cost was becoming unbearable. It was becoming difficult for India to hide its massive human rights violations and barbarities of Indian security forces. \\nHere I may add that the Indian Army had suffered humiliation at Dras-Kargil in 1999 at the hands of handful of Mujahideen and irregulars of Northern Light Infantry. It was eventually bailed out by the US led G-8 by exerting immense pressure on Pakistan to immediately vacate the captured territories. The Indian armed forces went through another embarrassment in 2002 when it had to sheepishly withdraw from its western border after a ten-month standoff during which it had constantly huffed and puffed but couldn\\u2019t pick up courage to cross the border. Aggressive response of Pak armed forces had taken the steam out of their chauvinism. \\nUnfortunately, all that was gained on the Kashmir front and on the military front was wasted away after Gen Musharraf wilted under the US pressure in 2003 and decided to take steps to please USA and India. Reining in Kashmir focused Jihadi groups, allowing India to fence the LoC and signing peace treaty with India in January 2004 changed the perspective. It helped Indian military to suppress Kashmir freedom movement. Earlier on, Musharraf had submitted to all the 7 demands of Washington in September 2001. Free hand given to CIA and FBI had enabled the two to establish their network in FATA and gain control over airports and seaport in Pakistan. Intelligence acquisition in FATA was taken over by CIA and ISI pushed on the back seat. \\nIndo-Pak peace treaty in 2004 enabled RAW to ignite FATA, Khyber Pakhtunkhwa (KP), Baluchistan and Karachi. While RAW assisted by CIA, NDS, MI-6 and Mossad made full use of its long arm to bleed Pakistan with the help of proxies, Pak security forces and ISI remained handicapped. The so-called friends pushed Pakistan to fight terrorism but secretly backed the terrorists. The US kept twisting the arm of Pakistan that if ISI meddled into India or Afghanistan it will be declared a rogue outfit. Perforce, the ISI undertook protective measures only, but its defensive actions were more often breached because the so-called allies stabbed Pakistan in the back. As a consequence, RAW and its strategic partners carried out one-sided covert war while the ISI at best tried to ward off the attacks. In spite of defensive policy of the govt and ISI, and Pakistan suffering much more human casualties than any other country in the war on terror, ISI was blamed to be in collusion with Al-Qaeda, Taliban, Haqqani Network, Jaish-e-Muhammad (JeM) and Lashkar-e-Taiba (LeT). These were termed as strategic assets of military establishment to overcome conventional inferiority against arch enemy India. The lost intelligence space In FATA/KP was gradually recovered when Lt Gen Shuja Pasha took over as DG ISI and Gen Ashfaq Kayani as COAS in 2008. \\nAll the terror attacks that took place in India between 2001 and 2008 were pinned on JeM and LeT and their connection was made with ISI. Since Pakistan made no effort to disprove Indian contention even after it was revealed by Indian investigative agencies and Home Ministry officials that Hindu terror groups and Indian military intelligence officers were involved in the attacks, it became easier for India to further strengthen its narrative of portraying Pakistan as a terror abetting state and a nursery of terrorism. India\\u2019s narrative was boosted up by its strategic allies. The US dubbed Pakistan as the most dangerous county in the world. Pakistan\\u2019s overall defensive policy and apologetic stance emboldened its detractors to keep whipping and bleeding it without fear of tit for tat response from ISI. \\nOther than the salvos fired by the Indo-Afghan-US-Israel nexus on Pak Army and ISI, Pakistan political leadership of major political parties also view the two premier institutions with distrust. Both PPP and PML-N in line with their 2006 Charter of Democracy made efforts to enfeeble ISI and keep Army under their thumb. First attempt was made by Benazir Bhutto when she replaced Lt Gen Hamid Gul with retired Lt Gen Kallue in 1989 and next tasked Air Marshal Zulfiqar to cut ISI to size under the garb of reforms. PM Yusaf Raza Gilani tried to civilianize ISI in August 2008 by placing it under Ministry of Interior. Kerry Lugar Bill in 2009 and Memo scandal in 2011 were other attempts to curtail military\\u2019s power. Nawaz Sharif has a history of locking horns with every Army chief and has still not got out of the hangover of Gen Musharraf. Although he didn\\u2019t clash with Gen Raheel but at times civil-military relations became tense. \\nIt has now been conclusively established that RAW and NDS in unison and backed by other agencies are deeply involved in proxy war in Pakistan since 2003 and have inflicted tens of thousands of cuts on the body of Pakistan and its people. Series of conspiracies have been hatched and launched to destabilize and fragment Pakistan. RAW-NDS nexus backed by CIA is continuing to use Afghanistan as a launching pad for terror attacks in Pakistan. In order to scuttle CPEC, focus of attacks is on Baluchistan and KP. India is keeping the LoC on fire. So far it has violated 2003 ceasefire agreement 178 times and killed 19 civilians and injured 80. \\nThe anti-Pakistan foreign agencies are making full use of TTP, Jamaat Ahrar, Lashkar Jhangvi, BLA, BRA, BLF and MQM as proxies. London is a safe haven for MQM leadership and Baloch rebel leaders, while Afghanistan has provided sanctuaries to TTP runaway leaders in Kunar, Nuristan and Nangarhar. Besides these strategic assets, the detractors are also making use of NGOs, human rights activists and segment of media to make Pakistan a compliant state of India. Since HN, JeM, and LeT are not playing the game of foreign agencies, they are dubbed as terrorist groups and strategic assets of Pak Army/ISI. They want Pakistan to take strict action against them or else face isolation and sanctions. \\nIt was in the backdrop of this concern of US and India that the Dawn News published a story on October 6. The planted story was allegedly furnished by someone from within the PM House where a national security conference presided by the PM and attended by Foreign Secretary, Punjab Chief Minister, COAS, DG ISI and National Security Adviser was held. The invented story written by Cyril Almeida gave an impression of serious rift between civil and military leadership and that while the govt wanted to proceed against the defunct militant groups, the ISI didn\\u2019t. Probable motive of concocted story was to demean the Army/ISI and to reinforce Indo-US stance that Pak Army and ISI were in league with terror groups. The types of Hussain Haqqani, Ayesha Sadiqa, Farzana Bari and several other liberal journalists assembled in London two days ago to play up this story. MQM (Altaf) hosted them. To ascertain the truth, a high powered committee comprising members from three intelligence agencies will carry out inquest. \\nHaving collected tons of evidence, yet Pakistan takes the barbs and whips without a whimper and doesn\\u2019t pick up courage to strike back. The long arm of ISI remains sheathed for reasons best known to the policy makers. It implies our leaders have decided to give a free hand to our enemies to continue bleeding Pakistan without any fear of retaliation or even protest. Going by the well-established concept that \\u2018offence is the best defence\\u2019, until and unless the ISI pay back the RAW and NDS in the same coin, one sided bleeding of Pakistanis will continue. Long arm must be unsheathed. \\nThe writer is retired Brig, war veteran, defence analyst, columnist, author of 5 books, Vice Chairman Thinkers Forum Pakistan, DG Measac Research Centre, and Member Executive Council PESS. Related Posts:\",\n          \"Matt Bissonnette, a former member of Navy SEAL Team 6 who wrote an account of the raid that killed Osama bin Laden, agreed on Friday to forfeit $6. 8 million in book royalties and speaking fees and apologized for failing to clear his disclosures with the Pentagon, according to federal court documents. Mr. Bissonnette also recently forfeited $180, 000 in fees for consulting work that he did for military contractors while he was still on the SEAL team, his lawyer, Robert D. Luskin, said in an interview. If approved by a federal judge in Alexandria, Va. the royalty settlement would bring an end to more than two years of civil and criminal investigations into Mr. Bissonnette, who won several awards for valor in Iraq and Afghanistan before writing \\u201cNo Easy Day,\\u201d his   book on the Bin Laden raid, under the pen name Mark Owen. The firsthand account of the daring raid was one of several   books and movies involving former Navy SEALS that has led to criticism within a community once known for discretion that Mr. Bissonnette and the others were cashing in on their exploits. The Justice Department conducted criminal investigations into whether Mr. Bissonnette had disclosed classified information in his book or speeches and whether he had violated    laws in consulting for companies that had contracts with SEAL Team 6. In the end, the department did not bring any criminal charges, settling instead for the cash forfeitures. Mr. Bissonnette said in a statement Friday that he regretted his failure to submit \\u201cNo Easy Day\\u201d for vetting before it was published in 2012 so Pentagon officials could ensure that it did not include classified information. Mr. Bissonnette acknowledged that he was required under his security clearances to let the Pentagon review the book, and he blamed another lawyer for advising him that he did not need to do so. \\u201cI acknowledge my mistake and have paid a stiff price, both personally and financially, for that error,\\u201d he said. \\u201cI accept responsibility for failing to submit the book for review and apologize sincerely for my oversight. \\u201d Documents filed in Federal District Court in Alexandria on Friday indicated that Mr. Bissonnette must transfer nearly $6. 8 million to the government as part of the settlement. The amount includes all of the $6. 7 million in royalties he has earned on \\u201cNo Easy Day,\\u201d as well as $100, 000 in fees for six speeches he gave in early 2013 before the government approved the slides he used in such presentations. Mr. Bissonnette wrote in \\u201cNo Easy Day\\u201d that he was one of the SEALs who shot Bin Laden, and he and Robert O\\u2019Neill, another former SEAL Team 6 member who claims his shots were the fatal ones, have competed on the lecture circuit. Military officials said that Mr. O\\u2019Neill is writing a book of his own and has asked the Pentagon to vet it. While Mr. Bissonnette\\u2019s fight with the Pentagon over his book has received public attention, some details of his consulting work while he was still a SEAL Team 6 member, as well as his fee forfeiture, have not been disclosed. Mr. Luskin said that Mr. Bissonnette and the federal authorities reached a \\u201cnonprosecution agreement\\u201d in May in which Mr. Bissonnette forfeited $180, 000 in fees for advising three equipment manufacturers who were doing business with SEAL Team 6 while he was on the team. Mr. Luskin said the fees dated back as far as 2006, when Mr. Bissonnette was the research and development representative for his squadron within Team 6. Other former SEAL members have said that his job was to figure out what types of equipment they needed. Mr. Luskin said that the $180, 000 came from   a helmet maker now owned by the Gentex Corporation in Carbondale, Pa. and two   manufacturers based in Virginia Beach  \\u2014   SS Precision and London Bridge Trading. No executives at the three companies were available for comment. Mr. Luskin said that Mr. Bissonnette and other SEAL members also received consulting fees from companies that designed tactical clothing and gear for other parts of the military or for sales to outdoor enthusiasts. Mr. Bissonnette has maintained that he cleared the consulting work in advance with a Navy lawyer, and Mr. Luskin said that helped persuade prosecutors that \\u201cthere was clearly on Matt\\u2019s part no intent to breach the    laws. \\u201d Navy officials say they have restricted such moonlighting since then. Mr. Luskin also noted that a number of   officials have assisted other authors writing about the Bin Laden raid as well as the creators of the movie \\u201cZero Dark Thirty. \\u201d But, he said, only Mr. Bissonnette has paid any penalties for the disclosures.\"\n        ],\n        \"semantic_type\": \"\",\n        \"description\": \"\"\n      }\n    },\n    {\n      \"column\": \"label\",\n      \"properties\": {\n        \"dtype\": \"category\",\n        \"num_unique_values\": 4,\n        \"samples\": [\n          \"0\",\n          \" \\u0447\\u0442\\u043e\\u0431\\u044b \\u044d\\u0442\\u043e \\u0431\\u044b\\u043b\\u0430 \\u0434\\u043e\\u0440\\u043e\\u0433\\u0430 \\u0441 \\u0434\\u0432\\u0443\\u0441\\u0442\\u043e\\u0440\\u043e\\u043d\\u043d\\u0438\\u043c \\u0434\\u0432\\u0438\\u0436\\u0435\\u043d\\u0438\\u0435\\u043c.\",\n          \"1\"\n        ],\n        \"semantic_type\": \"\",\n        \"description\": \"\"\n      }\n    }\n  ]\n}"
            }
          },
          "metadata": {},
          "execution_count": 16
        }
      ]
    },
    {
      "cell_type": "code",
      "source": [
        "# counting the number of missing values in the dataframe\n",
        "news_dataset.isnull().sum()"
      ],
      "metadata": {
        "colab": {
          "base_uri": "https://localhost:8080/",
          "height": 241
        },
        "id": "w9C4sl2gCXjM",
        "outputId": "0509e079-7d7b-45bf-bdad-1679872a39c0"
      },
      "execution_count": null,
      "outputs": [
        {
          "output_type": "execute_result",
          "data": {
            "text/plain": [
              "id           0\n",
              "title      565\n",
              "author    1975\n",
              "text        59\n",
              "label       22\n",
              "dtype: int64"
            ],
            "text/html": [
              "<div>\n",
              "<style scoped>\n",
              "    .dataframe tbody tr th:only-of-type {\n",
              "        vertical-align: middle;\n",
              "    }\n",
              "\n",
              "    .dataframe tbody tr th {\n",
              "        vertical-align: top;\n",
              "    }\n",
              "\n",
              "    .dataframe thead th {\n",
              "        text-align: right;\n",
              "    }\n",
              "</style>\n",
              "<table border=\"1\" class=\"dataframe\">\n",
              "  <thead>\n",
              "    <tr style=\"text-align: right;\">\n",
              "      <th></th>\n",
              "      <th>0</th>\n",
              "    </tr>\n",
              "  </thead>\n",
              "  <tbody>\n",
              "    <tr>\n",
              "      <th>id</th>\n",
              "      <td>0</td>\n",
              "    </tr>\n",
              "    <tr>\n",
              "      <th>title</th>\n",
              "      <td>565</td>\n",
              "    </tr>\n",
              "    <tr>\n",
              "      <th>author</th>\n",
              "      <td>1975</td>\n",
              "    </tr>\n",
              "    <tr>\n",
              "      <th>text</th>\n",
              "      <td>59</td>\n",
              "    </tr>\n",
              "    <tr>\n",
              "      <th>label</th>\n",
              "      <td>22</td>\n",
              "    </tr>\n",
              "  </tbody>\n",
              "</table>\n",
              "</div><br><label><b>dtype:</b> int64</label>"
            ]
          },
          "metadata": {},
          "execution_count": 17
        }
      ]
    },
    {
      "cell_type": "code",
      "source": [
        "# replacing the null values with empty string\n",
        "news_dataset = news_dataset.fillna('')"
      ],
      "metadata": {
        "id": "oxWxTdyBCzks"
      },
      "execution_count": null,
      "outputs": []
    },
    {
      "cell_type": "code",
      "source": [
        "# merging the author name and news title\n",
        "news_dataset['content'] = news_dataset['author'] + ' ' + news_dataset['title']"
      ],
      "metadata": {
        "id": "qZxNHKdBHOIb"
      },
      "execution_count": null,
      "outputs": []
    },
    {
      "cell_type": "code",
      "source": [
        "print(news_dataset['content'])"
      ],
      "metadata": {
        "colab": {
          "base_uri": "https://localhost:8080/"
        },
        "id": "HrS_ZK2IHaez",
        "outputId": "7542f1b1-4dd7-440f-e3e1-9df08e03d60a"
      },
      "execution_count": null,
      "outputs": [
        {
          "output_type": "stream",
          "name": "stdout",
          "text": [
            "0        Darrell Lucus House Dem Aide: We Didn’t Even S...\n",
            "1        Daniel J. Flynn FLYNN: Hillary Clinton, Big Wo...\n",
            "2        Consortiumnews.com Why the Truth Might Get You...\n",
            "3        Jessica Purkiss 15 Civilians Killed In Single ...\n",
            "4        Howard Portnoy Iranian woman jailed for fictio...\n",
            "                               ...                        \n",
            "20817    Jerome Hudson Rapper T.I.: Trump a ’Poster Chi...\n",
            "20818    Benjamin Hoffman N.F.L. Playoffs: Schedule, Ma...\n",
            "20819    Michael J. de la Merced and Rachel Abrams Macy...\n",
            "20820    Alex Ansary NATO, Russia To Hold Parallel Exer...\n",
            "20821              David Swanson What Keeps the F-35 Alive\n",
            "Name: content, Length: 20822, dtype: object\n"
          ]
        }
      ]
    },
    {
      "cell_type": "code",
      "source": [
        "# seperating the data and the label\n",
        "X = news_dataset.drop(columns='label', axis=1)\n",
        "Y = news_dataset['label']"
      ],
      "metadata": {
        "id": "aSDXxRkOHlYr"
      },
      "execution_count": null,
      "outputs": []
    },
    {
      "cell_type": "code",
      "source": [
        "print(X)\n",
        "print(Y)"
      ],
      "metadata": {
        "colab": {
          "base_uri": "https://localhost:8080/"
        },
        "id": "GYdzgU7TIJ19",
        "outputId": "df3a60b2-ca0a-4db4-8339-c6557f503139"
      },
      "execution_count": null,
      "outputs": [
        {
          "output_type": "stream",
          "name": "stdout",
          "text": [
            "          id                                              title  \\\n",
            "0          0  House Dem Aide: We Didn’t Even See Comey’s Let...   \n",
            "1          1  FLYNN: Hillary Clinton, Big Woman on Campus - ...   \n",
            "2          2                  Why the Truth Might Get You Fired   \n",
            "3          3  15 Civilians Killed In Single US Airstrike Hav...   \n",
            "4          4  Iranian woman jailed for fictional unpublished...   \n",
            "...      ...                                                ...   \n",
            "20817  20795  Rapper T.I.: Trump a ’Poster Child For White S...   \n",
            "20818  20796  N.F.L. Playoffs: Schedule, Matchups and Odds -...   \n",
            "20819  20797  Macy’s Is Said to Receive Takeover Approach by...   \n",
            "20820  20798  NATO, Russia To Hold Parallel Exercises In Bal...   \n",
            "20821  20799                          What Keeps the F-35 Alive   \n",
            "\n",
            "                                          author  \\\n",
            "0                                  Darrell Lucus   \n",
            "1                                Daniel J. Flynn   \n",
            "2                             Consortiumnews.com   \n",
            "3                                Jessica Purkiss   \n",
            "4                                 Howard Portnoy   \n",
            "...                                          ...   \n",
            "20817                              Jerome Hudson   \n",
            "20818                           Benjamin Hoffman   \n",
            "20819  Michael J. de la Merced and Rachel Abrams   \n",
            "20820                                Alex Ansary   \n",
            "20821                              David Swanson   \n",
            "\n",
            "                                                    text  \\\n",
            "0      House Dem Aide: We Didn’t Even See Comey’s Let...   \n",
            "1      Ever get the feeling your life circles the rou...   \n",
            "2      Why the Truth Might Get You Fired October 29, ...   \n",
            "3      Videos 15 Civilians Killed In Single US Airstr...   \n",
            "4      Print \\nAn Iranian woman has been sentenced to...   \n",
            "...                                                  ...   \n",
            "20817  Rapper T. I. unloaded on black celebrities who...   \n",
            "20818  When the Green Bay Packers lost to the Washing...   \n",
            "20819  The Macy’s of today grew from the union of sev...   \n",
            "20820  NATO, Russia To Hold Parallel Exercises In Bal...   \n",
            "20821    David Swanson is an author, activist, journa...   \n",
            "\n",
            "                                                 content  \n",
            "0      Darrell Lucus House Dem Aide: We Didn’t Even S...  \n",
            "1      Daniel J. Flynn FLYNN: Hillary Clinton, Big Wo...  \n",
            "2      Consortiumnews.com Why the Truth Might Get You...  \n",
            "3      Jessica Purkiss 15 Civilians Killed In Single ...  \n",
            "4      Howard Portnoy Iranian woman jailed for fictio...  \n",
            "...                                                  ...  \n",
            "20817  Jerome Hudson Rapper T.I.: Trump a ’Poster Chi...  \n",
            "20818  Benjamin Hoffman N.F.L. Playoffs: Schedule, Ma...  \n",
            "20819  Michael J. de la Merced and Rachel Abrams Macy...  \n",
            "20820  Alex Ansary NATO, Russia To Hold Parallel Exer...  \n",
            "20821            David Swanson What Keeps the F-35 Alive  \n",
            "\n",
            "[20822 rows x 5 columns]\n",
            "0        1\n",
            "1        0\n",
            "2        1\n",
            "3        1\n",
            "4        1\n",
            "        ..\n",
            "20817    0\n",
            "20818    0\n",
            "20819    0\n",
            "20820    1\n",
            "20821    1\n",
            "Name: label, Length: 20822, dtype: object\n"
          ]
        }
      ]
    },
    {
      "cell_type": "markdown",
      "source": [
        "Stemming"
      ],
      "metadata": {
        "id": "_B4c2hK2JKqj"
      }
    },
    {
      "cell_type": "markdown",
      "source": [
        "Stemming is the process of reducing a word into its root word\n",
        "\n",
        "\n",
        "Example: actress, actor, acting -----> act"
      ],
      "metadata": {
        "id": "JDa1fmhAJNGK"
      }
    },
    {
      "cell_type": "code",
      "source": [
        "port_stem = PorterStemmer()"
      ],
      "metadata": {
        "id": "tpuv1WGUIMVr"
      },
      "execution_count": null,
      "outputs": []
    },
    {
      "cell_type": "code",
      "source": [
        "def stemming(content):\n",
        "  stemmed_content = re.sub('[^a-zA-Z]', ' ', content)\n",
        "  stemmed_content = stemmed_content.lower()\n",
        "  stemmed_content = stemmed_content.split()\n",
        "  stemmed_content = [port_stem.stem(word) for word in stemmed_content if not word in stopwords.words('english')]\n",
        "  stemmed_content = ' '.join(stemmed_content)\n",
        "  return stemmed_content"
      ],
      "metadata": {
        "id": "3amKatXhNMP0"
      },
      "execution_count": null,
      "outputs": []
    },
    {
      "cell_type": "code",
      "source": [
        "news_dataset['content'] = news_dataset['content'].apply(stemming)"
      ],
      "metadata": {
        "id": "00yG_GJCOj50"
      },
      "execution_count": null,
      "outputs": []
    },
    {
      "cell_type": "code",
      "source": [
        "print(news_dataset['content'])"
      ],
      "metadata": {
        "colab": {
          "base_uri": "https://localhost:8080/"
        },
        "id": "Sh_ilJOfOrp8",
        "outputId": "79f449f7-5198-411a-9273-dede42a91f65"
      },
      "execution_count": null,
      "outputs": [
        {
          "output_type": "stream",
          "name": "stdout",
          "text": [
            "0        darrel lucu hous dem aid even see comey letter...\n",
            "1        daniel j flynn flynn hillari clinton big woman...\n",
            "2                   consortiumnew com truth might get fire\n",
            "3        jessica purkiss civilian kill singl us airstri...\n",
            "4        howard portnoy iranian woman jail fiction unpu...\n",
            "                               ...                        \n",
            "20817    jerom hudson rapper trump poster child white s...\n",
            "20818    benjamin hoffman n f l playoff schedul matchup...\n",
            "20819    michael j de la merc rachel abram maci said re...\n",
            "20820    alex ansari nato russia hold parallel exercis ...\n",
            "20821                            david swanson keep f aliv\n",
            "Name: content, Length: 20822, dtype: object\n"
          ]
        }
      ]
    },
    {
      "cell_type": "code",
      "source": [
        "# Seperating the labels and the data\n",
        "X = news_dataset['content'].values\n",
        "Y = news_dataset['label'].values"
      ],
      "metadata": {
        "id": "x43O_0nxPILs"
      },
      "execution_count": null,
      "outputs": []
    },
    {
      "cell_type": "code",
      "source": [
        "print(X)"
      ],
      "metadata": {
        "colab": {
          "base_uri": "https://localhost:8080/"
        },
        "id": "pSpFsoUoPhP0",
        "outputId": "292882b4-8591-4877-f36e-05a63bf8170d"
      },
      "execution_count": null,
      "outputs": [
        {
          "output_type": "stream",
          "name": "stdout",
          "text": [
            "['darrel lucu hous dem aid even see comey letter jason chaffetz tweet'\n",
            " 'daniel j flynn flynn hillari clinton big woman campu breitbart'\n",
            " 'consortiumnew com truth might get fire' ...\n",
            " 'michael j de la merc rachel abram maci said receiv takeov approach hudson bay new york time'\n",
            " 'alex ansari nato russia hold parallel exercis balkan'\n",
            " 'david swanson keep f aliv']\n"
          ]
        }
      ]
    },
    {
      "cell_type": "code",
      "source": [
        "print(Y)"
      ],
      "metadata": {
        "colab": {
          "base_uri": "https://localhost:8080/"
        },
        "id": "91zusTNPPhOe",
        "outputId": "966226ce-5188-4f13-8d84-6ab3d62c8ad3"
      },
      "execution_count": null,
      "outputs": [
        {
          "output_type": "stream",
          "name": "stdout",
          "text": [
            "['1' '0' '1' ... '0' '1' '1']\n"
          ]
        }
      ]
    },
    {
      "cell_type": "code",
      "source": [
        "Y.shape"
      ],
      "metadata": {
        "colab": {
          "base_uri": "https://localhost:8080/"
        },
        "id": "5UompfsPPly8",
        "outputId": "7c145273-52de-4f77-cb7f-ba6b1c19dd17"
      },
      "execution_count": null,
      "outputs": [
        {
          "output_type": "execute_result",
          "data": {
            "text/plain": [
              "(20822,)"
            ]
          },
          "metadata": {},
          "execution_count": 30
        }
      ]
    },
    {
      "cell_type": "code",
      "source": [
        "# converting the textual data to numerical data\n",
        "vectorizer = TfidfVectorizer()\n",
        "vectorizer.fit(X)\n",
        "\n",
        "X = vectorizer.transform(X)"
      ],
      "metadata": {
        "id": "9vrEfeXsPs9E"
      },
      "execution_count": null,
      "outputs": []
    },
    {
      "cell_type": "code",
      "source": [
        "print(X)"
      ],
      "metadata": {
        "colab": {
          "base_uri": "https://localhost:8080/"
        },
        "id": "QpMaZdSrQXYe",
        "outputId": "9be2ecd1-5db4-4134-f31b-8daa2a9a7091"
      },
      "execution_count": null,
      "outputs": [
        {
          "output_type": "stream",
          "name": "stdout",
          "text": [
            "<Compressed Sparse Row sparse matrix of dtype 'float64'\n",
            "\twith 210778 stored elements and shape (20822, 17136)>\n",
            "  Coords\tValues\n",
            "  (0, 267)\t0.27014778053672167\n",
            "  (0, 2484)\t0.3676990592743697\n",
            "  (0, 2960)\t0.24689141014750257\n",
            "  (0, 3602)\t0.35994096489813754\n",
            "  (0, 3794)\t0.2705797813233836\n",
            "  (0, 4975)\t0.2333632865672138\n",
            "  (0, 7008)\t0.21878792690522433\n",
            "  (0, 7695)\t0.24789859828097843\n",
            "  (0, 8633)\t0.29217179802324905\n",
            "  (0, 8912)\t0.36364344795259246\n",
            "  (0, 13478)\t0.2560149172431211\n",
            "  (0, 15695)\t0.2848972510323515\n",
            "  (1, 1497)\t0.2939921887587299\n",
            "  (1, 1894)\t0.15524631265972175\n",
            "  (1, 2224)\t0.3827200188088641\n",
            "  (1, 2814)\t0.19096625123288233\n",
            "  (1, 3570)\t0.2637458518155929\n",
            "  (1, 5506)\t0.7143145691090199\n",
            "  (1, 6819)\t0.1904866118084521\n",
            "  (1, 16807)\t0.30071934786077886\n",
            "  (2, 2944)\t0.3180050294894952\n",
            "  (2, 3104)\t0.4609666076640373\n",
            "  (2, 5392)\t0.3866575731579265\n",
            "  (2, 5971)\t0.3474726097377811\n",
            "  (2, 9623)\t0.4935010343775579\n",
            "  :\t:\n",
            "  (20819, 3645)\t0.21156327884082238\n",
            "  (20819, 7045)\t0.21799779675029382\n",
            "  (20819, 8367)\t0.22323238148833707\n",
            "  (20819, 8991)\t0.3615944630229642\n",
            "  (20819, 9521)\t0.2954160983178782\n",
            "  (20819, 9591)\t0.17456730094721287\n",
            "  (20819, 10310)\t0.08040873089640542\n",
            "  (20819, 12142)\t0.2477854180074755\n",
            "  (20819, 12348)\t0.2726336911024517\n",
            "  (20819, 13126)\t0.24825540550304984\n",
            "  (20819, 14975)\t0.311587804384769\n",
            "  (20819, 15304)\t0.08162037123486826\n",
            "  (20819, 17004)\t0.08318408375463279\n",
            "  (20820, 350)\t0.2844801738583416\n",
            "  (20820, 588)\t0.31122121411738246\n",
            "  (20820, 1125)\t0.4460397950330854\n",
            "  (20820, 5035)\t0.40836364208925335\n",
            "  (20820, 6892)\t0.3249679990492706\n",
            "  (20820, 10180)\t0.3192555767852514\n",
            "  (20820, 11056)\t0.4460397950330854\n",
            "  (20820, 13050)\t0.22365196436326265\n",
            "  (20821, 377)\t0.5677483667178378\n",
            "  (20821, 3625)\t0.37929566587884905\n",
            "  (20821, 8039)\t0.45984604165304654\n",
            "  (20821, 14860)\t0.5677483667178378\n"
          ]
        }
      ]
    },
    {
      "cell_type": "markdown",
      "source": [
        "Splitting the Data into training and test data"
      ],
      "metadata": {
        "id": "diPldGaNQmWF"
      }
    },
    {
      "cell_type": "code",
      "source": [
        "X_train, X_test, Y_train, Y_test = train_test_split(X, Y, test_size=0.2, random_state=2)"
      ],
      "metadata": {
        "id": "iehm7YvFQpbs"
      },
      "execution_count": null,
      "outputs": []
    },
    {
      "cell_type": "markdown",
      "source": [
        "Training the Model: Logistic Regression"
      ],
      "metadata": {
        "id": "6FJp-e45RJqD"
      }
    },
    {
      "cell_type": "code",
      "source": [
        "model = LogisticRegression()"
      ],
      "metadata": {
        "id": "_oyy5hr6ROKS"
      },
      "execution_count": null,
      "outputs": []
    },
    {
      "cell_type": "code",
      "source": [
        "model.fit(X_train, Y_train)"
      ],
      "metadata": {
        "colab": {
          "base_uri": "https://localhost:8080/",
          "height": 80
        },
        "id": "Xx0QJc4-EIlF",
        "outputId": "720ae800-848b-48c7-87b1-1bde0038c21a"
      },
      "execution_count": null,
      "outputs": [
        {
          "output_type": "execute_result",
          "data": {
            "text/plain": [
              "LogisticRegression()"
            ],
            "text/html": [
              "<style>#sk-container-id-1 {\n",
              "  /* Definition of color scheme common for light and dark mode */\n",
              "  --sklearn-color-text: #000;\n",
              "  --sklearn-color-text-muted: #666;\n",
              "  --sklearn-color-line: gray;\n",
              "  /* Definition of color scheme for unfitted estimators */\n",
              "  --sklearn-color-unfitted-level-0: #fff5e6;\n",
              "  --sklearn-color-unfitted-level-1: #f6e4d2;\n",
              "  --sklearn-color-unfitted-level-2: #ffe0b3;\n",
              "  --sklearn-color-unfitted-level-3: chocolate;\n",
              "  /* Definition of color scheme for fitted estimators */\n",
              "  --sklearn-color-fitted-level-0: #f0f8ff;\n",
              "  --sklearn-color-fitted-level-1: #d4ebff;\n",
              "  --sklearn-color-fitted-level-2: #b3dbfd;\n",
              "  --sklearn-color-fitted-level-3: cornflowerblue;\n",
              "\n",
              "  /* Specific color for light theme */\n",
              "  --sklearn-color-text-on-default-background: var(--sg-text-color, var(--theme-code-foreground, var(--jp-content-font-color1, black)));\n",
              "  --sklearn-color-background: var(--sg-background-color, var(--theme-background, var(--jp-layout-color0, white)));\n",
              "  --sklearn-color-border-box: var(--sg-text-color, var(--theme-code-foreground, var(--jp-content-font-color1, black)));\n",
              "  --sklearn-color-icon: #696969;\n",
              "\n",
              "  @media (prefers-color-scheme: dark) {\n",
              "    /* Redefinition of color scheme for dark theme */\n",
              "    --sklearn-color-text-on-default-background: var(--sg-text-color, var(--theme-code-foreground, var(--jp-content-font-color1, white)));\n",
              "    --sklearn-color-background: var(--sg-background-color, var(--theme-background, var(--jp-layout-color0, #111)));\n",
              "    --sklearn-color-border-box: var(--sg-text-color, var(--theme-code-foreground, var(--jp-content-font-color1, white)));\n",
              "    --sklearn-color-icon: #878787;\n",
              "  }\n",
              "}\n",
              "\n",
              "#sk-container-id-1 {\n",
              "  color: var(--sklearn-color-text);\n",
              "}\n",
              "\n",
              "#sk-container-id-1 pre {\n",
              "  padding: 0;\n",
              "}\n",
              "\n",
              "#sk-container-id-1 input.sk-hidden--visually {\n",
              "  border: 0;\n",
              "  clip: rect(1px 1px 1px 1px);\n",
              "  clip: rect(1px, 1px, 1px, 1px);\n",
              "  height: 1px;\n",
              "  margin: -1px;\n",
              "  overflow: hidden;\n",
              "  padding: 0;\n",
              "  position: absolute;\n",
              "  width: 1px;\n",
              "}\n",
              "\n",
              "#sk-container-id-1 div.sk-dashed-wrapped {\n",
              "  border: 1px dashed var(--sklearn-color-line);\n",
              "  margin: 0 0.4em 0.5em 0.4em;\n",
              "  box-sizing: border-box;\n",
              "  padding-bottom: 0.4em;\n",
              "  background-color: var(--sklearn-color-background);\n",
              "}\n",
              "\n",
              "#sk-container-id-1 div.sk-container {\n",
              "  /* jupyter's `normalize.less` sets `[hidden] { display: none; }`\n",
              "     but bootstrap.min.css set `[hidden] { display: none !important; }`\n",
              "     so we also need the `!important` here to be able to override the\n",
              "     default hidden behavior on the sphinx rendered scikit-learn.org.\n",
              "     See: https://github.com/scikit-learn/scikit-learn/issues/21755 */\n",
              "  display: inline-block !important;\n",
              "  position: relative;\n",
              "}\n",
              "\n",
              "#sk-container-id-1 div.sk-text-repr-fallback {\n",
              "  display: none;\n",
              "}\n",
              "\n",
              "div.sk-parallel-item,\n",
              "div.sk-serial,\n",
              "div.sk-item {\n",
              "  /* draw centered vertical line to link estimators */\n",
              "  background-image: linear-gradient(var(--sklearn-color-text-on-default-background), var(--sklearn-color-text-on-default-background));\n",
              "  background-size: 2px 100%;\n",
              "  background-repeat: no-repeat;\n",
              "  background-position: center center;\n",
              "}\n",
              "\n",
              "/* Parallel-specific style estimator block */\n",
              "\n",
              "#sk-container-id-1 div.sk-parallel-item::after {\n",
              "  content: \"\";\n",
              "  width: 100%;\n",
              "  border-bottom: 2px solid var(--sklearn-color-text-on-default-background);\n",
              "  flex-grow: 1;\n",
              "}\n",
              "\n",
              "#sk-container-id-1 div.sk-parallel {\n",
              "  display: flex;\n",
              "  align-items: stretch;\n",
              "  justify-content: center;\n",
              "  background-color: var(--sklearn-color-background);\n",
              "  position: relative;\n",
              "}\n",
              "\n",
              "#sk-container-id-1 div.sk-parallel-item {\n",
              "  display: flex;\n",
              "  flex-direction: column;\n",
              "}\n",
              "\n",
              "#sk-container-id-1 div.sk-parallel-item:first-child::after {\n",
              "  align-self: flex-end;\n",
              "  width: 50%;\n",
              "}\n",
              "\n",
              "#sk-container-id-1 div.sk-parallel-item:last-child::after {\n",
              "  align-self: flex-start;\n",
              "  width: 50%;\n",
              "}\n",
              "\n",
              "#sk-container-id-1 div.sk-parallel-item:only-child::after {\n",
              "  width: 0;\n",
              "}\n",
              "\n",
              "/* Serial-specific style estimator block */\n",
              "\n",
              "#sk-container-id-1 div.sk-serial {\n",
              "  display: flex;\n",
              "  flex-direction: column;\n",
              "  align-items: center;\n",
              "  background-color: var(--sklearn-color-background);\n",
              "  padding-right: 1em;\n",
              "  padding-left: 1em;\n",
              "}\n",
              "\n",
              "\n",
              "/* Toggleable style: style used for estimator/Pipeline/ColumnTransformer box that is\n",
              "clickable and can be expanded/collapsed.\n",
              "- Pipeline and ColumnTransformer use this feature and define the default style\n",
              "- Estimators will overwrite some part of the style using the `sk-estimator` class\n",
              "*/\n",
              "\n",
              "/* Pipeline and ColumnTransformer style (default) */\n",
              "\n",
              "#sk-container-id-1 div.sk-toggleable {\n",
              "  /* Default theme specific background. It is overwritten whether we have a\n",
              "  specific estimator or a Pipeline/ColumnTransformer */\n",
              "  background-color: var(--sklearn-color-background);\n",
              "}\n",
              "\n",
              "/* Toggleable label */\n",
              "#sk-container-id-1 label.sk-toggleable__label {\n",
              "  cursor: pointer;\n",
              "  display: flex;\n",
              "  width: 100%;\n",
              "  margin-bottom: 0;\n",
              "  padding: 0.5em;\n",
              "  box-sizing: border-box;\n",
              "  text-align: center;\n",
              "  align-items: start;\n",
              "  justify-content: space-between;\n",
              "  gap: 0.5em;\n",
              "}\n",
              "\n",
              "#sk-container-id-1 label.sk-toggleable__label .caption {\n",
              "  font-size: 0.6rem;\n",
              "  font-weight: lighter;\n",
              "  color: var(--sklearn-color-text-muted);\n",
              "}\n",
              "\n",
              "#sk-container-id-1 label.sk-toggleable__label-arrow:before {\n",
              "  /* Arrow on the left of the label */\n",
              "  content: \"▸\";\n",
              "  float: left;\n",
              "  margin-right: 0.25em;\n",
              "  color: var(--sklearn-color-icon);\n",
              "}\n",
              "\n",
              "#sk-container-id-1 label.sk-toggleable__label-arrow:hover:before {\n",
              "  color: var(--sklearn-color-text);\n",
              "}\n",
              "\n",
              "/* Toggleable content - dropdown */\n",
              "\n",
              "#sk-container-id-1 div.sk-toggleable__content {\n",
              "  max-height: 0;\n",
              "  max-width: 0;\n",
              "  overflow: hidden;\n",
              "  text-align: left;\n",
              "  /* unfitted */\n",
              "  background-color: var(--sklearn-color-unfitted-level-0);\n",
              "}\n",
              "\n",
              "#sk-container-id-1 div.sk-toggleable__content.fitted {\n",
              "  /* fitted */\n",
              "  background-color: var(--sklearn-color-fitted-level-0);\n",
              "}\n",
              "\n",
              "#sk-container-id-1 div.sk-toggleable__content pre {\n",
              "  margin: 0.2em;\n",
              "  border-radius: 0.25em;\n",
              "  color: var(--sklearn-color-text);\n",
              "  /* unfitted */\n",
              "  background-color: var(--sklearn-color-unfitted-level-0);\n",
              "}\n",
              "\n",
              "#sk-container-id-1 div.sk-toggleable__content.fitted pre {\n",
              "  /* unfitted */\n",
              "  background-color: var(--sklearn-color-fitted-level-0);\n",
              "}\n",
              "\n",
              "#sk-container-id-1 input.sk-toggleable__control:checked~div.sk-toggleable__content {\n",
              "  /* Expand drop-down */\n",
              "  max-height: 200px;\n",
              "  max-width: 100%;\n",
              "  overflow: auto;\n",
              "}\n",
              "\n",
              "#sk-container-id-1 input.sk-toggleable__control:checked~label.sk-toggleable__label-arrow:before {\n",
              "  content: \"▾\";\n",
              "}\n",
              "\n",
              "/* Pipeline/ColumnTransformer-specific style */\n",
              "\n",
              "#sk-container-id-1 div.sk-label input.sk-toggleable__control:checked~label.sk-toggleable__label {\n",
              "  color: var(--sklearn-color-text);\n",
              "  background-color: var(--sklearn-color-unfitted-level-2);\n",
              "}\n",
              "\n",
              "#sk-container-id-1 div.sk-label.fitted input.sk-toggleable__control:checked~label.sk-toggleable__label {\n",
              "  background-color: var(--sklearn-color-fitted-level-2);\n",
              "}\n",
              "\n",
              "/* Estimator-specific style */\n",
              "\n",
              "/* Colorize estimator box */\n",
              "#sk-container-id-1 div.sk-estimator input.sk-toggleable__control:checked~label.sk-toggleable__label {\n",
              "  /* unfitted */\n",
              "  background-color: var(--sklearn-color-unfitted-level-2);\n",
              "}\n",
              "\n",
              "#sk-container-id-1 div.sk-estimator.fitted input.sk-toggleable__control:checked~label.sk-toggleable__label {\n",
              "  /* fitted */\n",
              "  background-color: var(--sklearn-color-fitted-level-2);\n",
              "}\n",
              "\n",
              "#sk-container-id-1 div.sk-label label.sk-toggleable__label,\n",
              "#sk-container-id-1 div.sk-label label {\n",
              "  /* The background is the default theme color */\n",
              "  color: var(--sklearn-color-text-on-default-background);\n",
              "}\n",
              "\n",
              "/* On hover, darken the color of the background */\n",
              "#sk-container-id-1 div.sk-label:hover label.sk-toggleable__label {\n",
              "  color: var(--sklearn-color-text);\n",
              "  background-color: var(--sklearn-color-unfitted-level-2);\n",
              "}\n",
              "\n",
              "/* Label box, darken color on hover, fitted */\n",
              "#sk-container-id-1 div.sk-label.fitted:hover label.sk-toggleable__label.fitted {\n",
              "  color: var(--sklearn-color-text);\n",
              "  background-color: var(--sklearn-color-fitted-level-2);\n",
              "}\n",
              "\n",
              "/* Estimator label */\n",
              "\n",
              "#sk-container-id-1 div.sk-label label {\n",
              "  font-family: monospace;\n",
              "  font-weight: bold;\n",
              "  display: inline-block;\n",
              "  line-height: 1.2em;\n",
              "}\n",
              "\n",
              "#sk-container-id-1 div.sk-label-container {\n",
              "  text-align: center;\n",
              "}\n",
              "\n",
              "/* Estimator-specific */\n",
              "#sk-container-id-1 div.sk-estimator {\n",
              "  font-family: monospace;\n",
              "  border: 1px dotted var(--sklearn-color-border-box);\n",
              "  border-radius: 0.25em;\n",
              "  box-sizing: border-box;\n",
              "  margin-bottom: 0.5em;\n",
              "  /* unfitted */\n",
              "  background-color: var(--sklearn-color-unfitted-level-0);\n",
              "}\n",
              "\n",
              "#sk-container-id-1 div.sk-estimator.fitted {\n",
              "  /* fitted */\n",
              "  background-color: var(--sklearn-color-fitted-level-0);\n",
              "}\n",
              "\n",
              "/* on hover */\n",
              "#sk-container-id-1 div.sk-estimator:hover {\n",
              "  /* unfitted */\n",
              "  background-color: var(--sklearn-color-unfitted-level-2);\n",
              "}\n",
              "\n",
              "#sk-container-id-1 div.sk-estimator.fitted:hover {\n",
              "  /* fitted */\n",
              "  background-color: var(--sklearn-color-fitted-level-2);\n",
              "}\n",
              "\n",
              "/* Specification for estimator info (e.g. \"i\" and \"?\") */\n",
              "\n",
              "/* Common style for \"i\" and \"?\" */\n",
              "\n",
              ".sk-estimator-doc-link,\n",
              "a:link.sk-estimator-doc-link,\n",
              "a:visited.sk-estimator-doc-link {\n",
              "  float: right;\n",
              "  font-size: smaller;\n",
              "  line-height: 1em;\n",
              "  font-family: monospace;\n",
              "  background-color: var(--sklearn-color-background);\n",
              "  border-radius: 1em;\n",
              "  height: 1em;\n",
              "  width: 1em;\n",
              "  text-decoration: none !important;\n",
              "  margin-left: 0.5em;\n",
              "  text-align: center;\n",
              "  /* unfitted */\n",
              "  border: var(--sklearn-color-unfitted-level-1) 1pt solid;\n",
              "  color: var(--sklearn-color-unfitted-level-1);\n",
              "}\n",
              "\n",
              ".sk-estimator-doc-link.fitted,\n",
              "a:link.sk-estimator-doc-link.fitted,\n",
              "a:visited.sk-estimator-doc-link.fitted {\n",
              "  /* fitted */\n",
              "  border: var(--sklearn-color-fitted-level-1) 1pt solid;\n",
              "  color: var(--sklearn-color-fitted-level-1);\n",
              "}\n",
              "\n",
              "/* On hover */\n",
              "div.sk-estimator:hover .sk-estimator-doc-link:hover,\n",
              ".sk-estimator-doc-link:hover,\n",
              "div.sk-label-container:hover .sk-estimator-doc-link:hover,\n",
              ".sk-estimator-doc-link:hover {\n",
              "  /* unfitted */\n",
              "  background-color: var(--sklearn-color-unfitted-level-3);\n",
              "  color: var(--sklearn-color-background);\n",
              "  text-decoration: none;\n",
              "}\n",
              "\n",
              "div.sk-estimator.fitted:hover .sk-estimator-doc-link.fitted:hover,\n",
              ".sk-estimator-doc-link.fitted:hover,\n",
              "div.sk-label-container:hover .sk-estimator-doc-link.fitted:hover,\n",
              ".sk-estimator-doc-link.fitted:hover {\n",
              "  /* fitted */\n",
              "  background-color: var(--sklearn-color-fitted-level-3);\n",
              "  color: var(--sklearn-color-background);\n",
              "  text-decoration: none;\n",
              "}\n",
              "\n",
              "/* Span, style for the box shown on hovering the info icon */\n",
              ".sk-estimator-doc-link span {\n",
              "  display: none;\n",
              "  z-index: 9999;\n",
              "  position: relative;\n",
              "  font-weight: normal;\n",
              "  right: .2ex;\n",
              "  padding: .5ex;\n",
              "  margin: .5ex;\n",
              "  width: min-content;\n",
              "  min-width: 20ex;\n",
              "  max-width: 50ex;\n",
              "  color: var(--sklearn-color-text);\n",
              "  box-shadow: 2pt 2pt 4pt #999;\n",
              "  /* unfitted */\n",
              "  background: var(--sklearn-color-unfitted-level-0);\n",
              "  border: .5pt solid var(--sklearn-color-unfitted-level-3);\n",
              "}\n",
              "\n",
              ".sk-estimator-doc-link.fitted span {\n",
              "  /* fitted */\n",
              "  background: var(--sklearn-color-fitted-level-0);\n",
              "  border: var(--sklearn-color-fitted-level-3);\n",
              "}\n",
              "\n",
              ".sk-estimator-doc-link:hover span {\n",
              "  display: block;\n",
              "}\n",
              "\n",
              "/* \"?\"-specific style due to the `<a>` HTML tag */\n",
              "\n",
              "#sk-container-id-1 a.estimator_doc_link {\n",
              "  float: right;\n",
              "  font-size: 1rem;\n",
              "  line-height: 1em;\n",
              "  font-family: monospace;\n",
              "  background-color: var(--sklearn-color-background);\n",
              "  border-radius: 1rem;\n",
              "  height: 1rem;\n",
              "  width: 1rem;\n",
              "  text-decoration: none;\n",
              "  /* unfitted */\n",
              "  color: var(--sklearn-color-unfitted-level-1);\n",
              "  border: var(--sklearn-color-unfitted-level-1) 1pt solid;\n",
              "}\n",
              "\n",
              "#sk-container-id-1 a.estimator_doc_link.fitted {\n",
              "  /* fitted */\n",
              "  border: var(--sklearn-color-fitted-level-1) 1pt solid;\n",
              "  color: var(--sklearn-color-fitted-level-1);\n",
              "}\n",
              "\n",
              "/* On hover */\n",
              "#sk-container-id-1 a.estimator_doc_link:hover {\n",
              "  /* unfitted */\n",
              "  background-color: var(--sklearn-color-unfitted-level-3);\n",
              "  color: var(--sklearn-color-background);\n",
              "  text-decoration: none;\n",
              "}\n",
              "\n",
              "#sk-container-id-1 a.estimator_doc_link.fitted:hover {\n",
              "  /* fitted */\n",
              "  background-color: var(--sklearn-color-fitted-level-3);\n",
              "}\n",
              "</style><div id=\"sk-container-id-1\" class=\"sk-top-container\"><div class=\"sk-text-repr-fallback\"><pre>LogisticRegression()</pre><b>In a Jupyter environment, please rerun this cell to show the HTML representation or trust the notebook. <br />On GitHub, the HTML representation is unable to render, please try loading this page with nbviewer.org.</b></div><div class=\"sk-container\" hidden><div class=\"sk-item\"><div class=\"sk-estimator fitted sk-toggleable\"><input class=\"sk-toggleable__control sk-hidden--visually\" id=\"sk-estimator-id-1\" type=\"checkbox\" checked><label for=\"sk-estimator-id-1\" class=\"sk-toggleable__label fitted sk-toggleable__label-arrow\"><div><div>LogisticRegression</div></div><div><a class=\"sk-estimator-doc-link fitted\" rel=\"noreferrer\" target=\"_blank\" href=\"https://scikit-learn.org/1.6/modules/generated/sklearn.linear_model.LogisticRegression.html\">?<span>Documentation for LogisticRegression</span></a><span class=\"sk-estimator-doc-link fitted\">i<span>Fitted</span></span></div></label><div class=\"sk-toggleable__content fitted\"><pre>LogisticRegression()</pre></div> </div></div></div></div>"
            ]
          },
          "metadata": {},
          "execution_count": 35
        }
      ]
    },
    {
      "cell_type": "markdown",
      "source": [
        "Evaluation"
      ],
      "metadata": {
        "id": "fz9cqN0yENVy"
      }
    },
    {
      "cell_type": "markdown",
      "source": [
        "Accuracy Score"
      ],
      "metadata": {
        "id": "5pAFZqRUEX8a"
      }
    },
    {
      "cell_type": "code",
      "source": [
        "# accuracy score on the training data\n",
        "X_train_prediction = model.predict(X_train)\n",
        "training_data_accuracy = accuracy_score(X_train_prediction, Y_train)"
      ],
      "metadata": {
        "id": "ZH4CsZScEOxg"
      },
      "execution_count": null,
      "outputs": []
    },
    {
      "cell_type": "code",
      "source": [
        "print(\"Accuracy score of the Training Data : \", training_data_accuracy)"
      ],
      "metadata": {
        "colab": {
          "base_uri": "https://localhost:8080/"
        },
        "id": "XWnkDV2XEupV",
        "outputId": "7625bbe8-15a2-4b30-aeab-d6ac5b042eb6"
      },
      "execution_count": null,
      "outputs": [
        {
          "output_type": "stream",
          "name": "stdout",
          "text": [
            "Accuracy score of the Training Data :  0.9923755778351444\n"
          ]
        }
      ]
    },
    {
      "cell_type": "code",
      "source": [
        "# accuracy score on the test data\n",
        "X_test_prediction = model.predict(X_test)\n",
        "test_data_accuracy = accuracy_score(X_test_prediction, Y_test)"
      ],
      "metadata": {
        "id": "vAYpvvTwFIks"
      },
      "execution_count": null,
      "outputs": []
    },
    {
      "cell_type": "code",
      "source": [
        "print(\"Accuracy score of the Test Data : \", test_data_accuracy)"
      ],
      "metadata": {
        "colab": {
          "base_uri": "https://localhost:8080/"
        },
        "id": "NHAdB10gFOvT",
        "outputId": "4556fd51-2a2b-4ff9-f656-c8ac55df3321"
      },
      "execution_count": null,
      "outputs": [
        {
          "output_type": "stream",
          "name": "stdout",
          "text": [
            "Accuracy score of the Test Data :  0.9817527010804322\n"
          ]
        }
      ]
    },
    {
      "cell_type": "markdown",
      "source": [
        "Building a Predictive System"
      ],
      "metadata": {
        "id": "8Fmf06ArFncj"
      }
    },
    {
      "source": [
        "X_new = X_test[10]\n",
        "\n",
        "# Convert the new input string to a list\n",
        "X_new_list = [X_new]\n",
        "\n",
        "prediction = model.predict(X_new)\n",
        "print(prediction)\n",
        "\n",
        "if (prediction[0]=='0'):\n",
        "  print('The news is Real')\n",
        "\n",
        "else:\n",
        "  print('The news is Fake')"
      ],
      "cell_type": "code",
      "metadata": {
        "colab": {
          "base_uri": "https://localhost:8080/"
        },
        "id": "6mOBXTgNKmdd",
        "outputId": "5793c50f-fa9d-4ec0-b7f8-1f1ddece1331"
      },
      "execution_count": null,
      "outputs": [
        {
          "output_type": "stream",
          "name": "stdout",
          "text": [
            "['1']\n",
            "The news is Fake\n"
          ]
        }
      ]
    },
    {
      "cell_type": "code",
      "source": [
        "print(Y_test[10])"
      ],
      "metadata": {
        "colab": {
          "base_uri": "https://localhost:8080/"
        },
        "id": "rrln-fxGGVfb",
        "outputId": "0345b51d-9a7a-48e6-f6ba-4b322d9314b1"
      },
      "execution_count": null,
      "outputs": [
        {
          "output_type": "stream",
          "name": "stdout",
          "text": [
            "1\n"
          ]
        }
      ]
    }
  ]
}